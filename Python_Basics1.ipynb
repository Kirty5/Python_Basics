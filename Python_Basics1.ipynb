{
  "nbformat": 4,
  "nbformat_minor": 0,
  "metadata": {
    "colab": {
      "provenance": []
    },
    "kernelspec": {
      "name": "python3",
      "display_name": "Python 3"
    },
    "language_info": {
      "name": "python"
    }
  },
  "cells": [
    {
      "cell_type": "markdown",
      "source": [],
      "metadata": {
        "id": "-mIUL6-3SJEU"
      }
    },
    {
      "cell_type": "code",
      "source": [],
      "metadata": {
        "id": "VkvzFPUv0UQz"
      },
      "execution_count": null,
      "outputs": []
    },
    {
      "cell_type": "markdown",
      "source": [
        "# Python Basics\n"
      ],
      "metadata": {
        "id": "VyOM_0mpSKgr"
      }
    },
    {
      "cell_type": "markdown",
      "source": [
        "1.What is Python, and why is it popular?\n",
        "A.Python is a high-level, interpreted programming language known for its simplicity, readability, and versatility.Supports object-oriented, procedural, and functional programming.\n",
        "Its popular because Simple syntax that resembles plain English,Libraries like NumPy, Pandas, TensorFlow, Flask, Django, etc.,Works on Windows, macOS, Linux, and even microcontrollers (via MicroPython).\n",
        "\n",
        "2.What is an interpreter in Python?\n",
        "A.An interpreter in Python is a program that reads and executes Python code line-by-line, translating it into machine instructions at runtime.\n",
        "\n",
        "3.What are pre-defined keywords in Python?\n",
        "A.Pre-defined keywords (also called reserved words) in Python are special words that have a fixed meaning and cannot be used as variable names, function names, or identifiers.\n",
        "They are built into the language and help define its syntax and structure.\n",
        "Examples are:if,else,for,while,def,class,return,import,try,except,run etc.\n",
        "\n",
        "4.Can keywords be used as variable names?\n",
        "A.No.Keywords have predefined meanings and roles in the Python language (like if, while, class, def, etc.). Using them as variable names would confuse the interpreter and cause errors.\n",
        "\n",
        "5.What is mutability in Python?\n",
        "A.Mutability refers to whether or not an object’s value can be changed after it is created.\n",
        "\n",
        "6.Why are lists mutable, but tuples are immutable?\n",
        "A.Lists are used when you expect data to change: adding, removing, modifying.A list stores a reference to its elements in a dynamic array that allows updates.A tuple is stored in a fixed-size structure, making it faster and memory-efficient, but unchangeable.\n",
        "Tuples are used when you want stable, protected data that shouldn't change.\n",
        "\n",
        "7.What is the difference between “==” and “is” operators in Python?\n",
        "A.== checks if the contents are equal.\n",
        "is checks if both variables point to the same memory address (same object).\n",
        "\n",
        "8.What are logical operators in Python?\n",
        "A.Logical operators in Python are used to combine multiple conditions (Boolean expressions) and return a True or False result.AND,OR,NOT are logical operators.\n",
        "\n",
        "9.What is type casting in Python?\n",
        "A.Type casting in Python means converting a value from one data type to another — for example, from a string to an integer, or from a float to a string.\n",
        "\n",
        "10.What is the difference between implicit and explicit type casting?\n",
        "A.Implicit Type Casting:Automatically done by Python,Python controls it,Happens in operations involving mixed data types\n",
        "Explicit Type casting:Manually done by the programmer,Programmer controls it,Used when changing one type to another intentionally\n",
        "\n",
        "11.What is the purpose of conditional statements in Python?\n",
        "A.Conditional statements in Python are used to make decisions in your program — they let your code choose different paths based on whether a condition is True or False.Example:if,elif,else.\n",
        "\n",
        "12.How does the elif statement work?\n",
        "A.The elif statement stands for “else if” and is used to check multiple conditions after the initial if.\n",
        "It allows your program to choose between several options, running only the first block where the condition is True.\n",
        "\n",
        "13.What is the difference between for and while loops?\n",
        "A.For loop:When you know how many times to loop,Iterating over lists, ranges, strings,Automatically stops after last item\n",
        "while loops:When you loop until a condition is met,Loop while a condition remains True,Needs manual condition update to stop.\n",
        "\n",
        "14.Describe a scenario where a while loop is more suitable than a for loop.\n",
        "A.correct_password = \"python123\"\n",
        "user_input = \"\"\n",
        "\n",
        "while user_input != correct_password:\n",
        "    user_input = input(\"Enter your password: \")\n",
        "\n",
        "print(\"Access granted!\")\n",
        "Description:The loop keeps running as long as the entered password is wrong.\n",
        "The moment the condition (user_input != correct_password) becomes False, the loop stops.\n",
        "\n",
        "Using a for loop here would make no sense because the number of attempts is unknown."
      ],
      "metadata": {
        "id": "KTmsRwiAS30j"
      }
    },
    {
      "cell_type": "code",
      "execution_count": 1,
      "metadata": {
        "id": "ENGEwp8xRrd9",
        "colab": {
          "base_uri": "https://localhost:8080/"
        },
        "outputId": "a7b101fa-ec53-4ecb-d4bf-bc57396ca2b5"
      },
      "outputs": [
        {
          "output_type": "stream",
          "name": "stdout",
          "text": [
            "Hello, World!\n"
          ]
        }
      ],
      "source": [
        "\"\"\"Write a Python program to print \"Hello,World!.\"\"\"\n",
        "print(\"Hello, World!\")\n"
      ]
    },
    {
      "cell_type": "code",
      "source": [],
      "metadata": {
        "id": "Y7_qfLfQABoR"
      },
      "execution_count": null,
      "outputs": []
    },
    {
      "cell_type": "code",
      "source": [
        "\"\"\"Write a Python program that displays your name and age.\"\"\"\n",
        "name=\"Kirty Tripathi\"\n",
        "age=36\n",
        "print(\"My name is\",name)\n",
        "print(\"I am\",age,\"years old.\")"
      ],
      "metadata": {
        "colab": {
          "base_uri": "https://localhost:8080/"
        },
        "id": "n-r59TLs0eWe",
        "outputId": "bf44503f-81ff-4481-d2b9-24aef8ce2db9"
      },
      "execution_count": 2,
      "outputs": [
        {
          "output_type": "stream",
          "name": "stdout",
          "text": [
            "My name is Kirty Tripathi\n",
            "I am 36 years old.\n"
          ]
        }
      ]
    },
    {
      "cell_type": "code",
      "source": [
        "\"\"\"Write code to print all the pre-defined keywords in Python using the keyword library.\"\"\"\n",
        "import keyword\n",
        "keywords = keyword.kwlist\n",
        "print(\"Python Keywords:\")\n",
        "for word in keywords:\n",
        "    print(word)"
      ],
      "metadata": {
        "colab": {
          "base_uri": "https://localhost:8080/"
        },
        "id": "TsACuik8ACso",
        "outputId": "9583ebbc-a3b6-40e9-e2d1-983c5fc242fa"
      },
      "execution_count": 3,
      "outputs": [
        {
          "output_type": "stream",
          "name": "stdout",
          "text": [
            "Python Keywords:\n",
            "False\n",
            "None\n",
            "True\n",
            "and\n",
            "as\n",
            "assert\n",
            "async\n",
            "await\n",
            "break\n",
            "class\n",
            "continue\n",
            "def\n",
            "del\n",
            "elif\n",
            "else\n",
            "except\n",
            "finally\n",
            "for\n",
            "from\n",
            "global\n",
            "if\n",
            "import\n",
            "in\n",
            "is\n",
            "lambda\n",
            "nonlocal\n",
            "not\n",
            "or\n",
            "pass\n",
            "raise\n",
            "return\n",
            "try\n",
            "while\n",
            "with\n",
            "yield\n"
          ]
        }
      ]
    },
    {
      "cell_type": "code",
      "source": [
        "\"\"\"Write a program that checks if a given word is a Python keyword.\"\"\"\n",
        "import keyword\n",
        "\n",
        "# Ask the user for input\n",
        "word = input(\"Enter a word: \")\n",
        "\n",
        "# Check if it's a Python keyword\n",
        "if keyword.iskeyword(word):\n",
        "    print(f\"'{word}' is a Python keyword.\")\n",
        "else:\n",
        "    print(f\"'{word}' is NOT a Python keyword.\")\n"
      ],
      "metadata": {
        "colab": {
          "base_uri": "https://localhost:8080/"
        },
        "id": "RFlI23CIBF6C",
        "outputId": "c392aa46-9087-4dd9-f4ba-7d60cd2f1956"
      },
      "execution_count": 10,
      "outputs": [
        {
          "output_type": "stream",
          "name": "stdout",
          "text": [
            "Enter a word: False\n",
            "'False' is a Python keyword.\n"
          ]
        }
      ]
    },
    {
      "cell_type": "code",
      "source": [
        "\"\"\"Create a list and tuple in Python, and demonstrate how attempting to change an element works differently\n",
        "for each.\"\"\"\n",
        "# Create a list and a tuple\n",
        "my_list = [10, 20, 30]\n",
        "my_tuple = (10, 20, 30)\n",
        "\n",
        "# Modify an element in the list\n",
        "my_list[1] = 99\n",
        "print(\"Modified list:\", my_list)\n",
        "\n",
        "# Attempt to modify an element in the tuple\n",
        "try:\n",
        "    my_tuple[1] = 99\n",
        "except TypeError as e:\n",
        "    print(\"Modify tuple:\", my_tuple)\n"
      ],
      "metadata": {
        "colab": {
          "base_uri": "https://localhost:8080/"
        },
        "id": "qsCEo-PEDHkw",
        "outputId": "cb17f28c-50c7-4728-9b48-8ab1b30976b4"
      },
      "execution_count": 12,
      "outputs": [
        {
          "output_type": "stream",
          "name": "stdout",
          "text": [
            "Modified list: [10, 99, 30]\n",
            "Modify tuple: (10, 20, 30)\n"
          ]
        }
      ]
    },
    {
      "cell_type": "code",
      "source": [
        "\"\"\"Write a function to demonstrate the behavior of mutable and immutable arguments.\"\"\"\n",
        "def modify(a, b):\n",
        "    a = a + 1         # Tries to change immutable int\n",
        "    b.append(4)       # Changes mutable list\n",
        "    print(\"Inside function - a:\", a)\n",
        "    print(\"Inside function - b:\", b)\n",
        "\n",
        "# Immutable variable\n",
        "x = 10\n",
        "\n",
        "# Mutable variable\n",
        "y = [1, 2, 3]\n",
        "\n",
        "# Call the function\n",
        "modify(x, y)\n",
        "\n",
        "# Check values after function call\n",
        "print(\"Outside function - x:\", x)\n",
        "print(\"Outside function - y:\", y)\n"
      ],
      "metadata": {
        "colab": {
          "base_uri": "https://localhost:8080/"
        },
        "id": "NikRzw97EDKJ",
        "outputId": "f741336a-eaf7-4916-8411-157ab95c57b4"
      },
      "execution_count": 1,
      "outputs": [
        {
          "output_type": "stream",
          "name": "stdout",
          "text": [
            "Inside function - a: 11\n",
            "Inside function - b: [1, 2, 3, 4]\n",
            "Outside function - x: 10\n",
            "Outside function - y: [1, 2, 3, 4]\n"
          ]
        }
      ]
    },
    {
      "cell_type": "code",
      "source": [
        "\"\"\" Write a program that performs basic arithmetic operations on two user-input numbers.\"\"\"\n",
        "# Get user input and convert to float\n",
        "num1 = float(input(\"Enter first number: \"))\n",
        "num2 = float(input(\"Enter second number: \"))\n",
        "\n",
        "# Perform arithmetic operations\n",
        "addition = num1 + num2\n",
        "subtraction = num1 - num2\n",
        "multiplication = num1 * num2\n",
        "\n",
        "# Check for division by zero\n",
        "if num2 != 0:\n",
        "    division = num1 / num2\n",
        "else:\n",
        "    division = \"undefined (cannot divide by zero)\"\n",
        "\n",
        "# Display results\n",
        "print(\"Addition:\", addition)\n",
        "print(\"Subtraction:\", subtraction)\n",
        "print(\"Multiplication:\", multiplication)\n",
        "print(\"Division:\", division)\n"
      ],
      "metadata": {
        "colab": {
          "base_uri": "https://localhost:8080/"
        },
        "id": "TRMLIMxRNKAY",
        "outputId": "c0245811-2c0c-4e7e-c419-558065227f96"
      },
      "execution_count": 2,
      "outputs": [
        {
          "output_type": "stream",
          "name": "stdout",
          "text": [
            "Enter first number: 5\n",
            "Enter second number: 10\n",
            "Addition: 15.0\n",
            "Subtraction: -5.0\n",
            "Multiplication: 50.0\n",
            "Division: 0.5\n"
          ]
        }
      ]
    },
    {
      "cell_type": "code",
      "source": [
        "\"\"\"Write a program to demonstrate the use of logical operators.\"\"\"\n",
        "# Get two numbers from the user\n",
        "a = int(input(\"Enter first number: \"))\n",
        "b = int(input(\"Enter second number: \"))\n",
        "\n",
        "# Demonstrate logical AND\n",
        "if a > 0 and b > 0:\n",
        "    print(\"Both numbers are positive.\")\n",
        "\n",
        "# Demonstrate logical OR\n",
        "if a > 0 or b > 0:\n",
        "    print(\"At least one number is positive.\")\n",
        "\n",
        "# Demonstrate logical NOT\n",
        "if not (a > 0 and b > 0):\n",
        "    print(\"At least one number is not positive.\")\n"
      ],
      "metadata": {
        "colab": {
          "base_uri": "https://localhost:8080/"
        },
        "id": "myzSI1coNxhR",
        "outputId": "ab0aeb68-a6ee-4564-b363-44ffbd78b4c7"
      },
      "execution_count": 3,
      "outputs": [
        {
          "output_type": "stream",
          "name": "stdout",
          "text": [
            "Enter first number: 5\n",
            "Enter second number: 2\n",
            "Both numbers are positive.\n",
            "At least one number is positive.\n"
          ]
        }
      ]
    },
    {
      "cell_type": "code",
      "source": [
        "\"\"\"Write a Python program to convert user input from string to integer, float, and boolean types.\"\"\"\n",
        "# Take user input (it's always a string)\n",
        "user_input = input(\"Enter a value: \")\n",
        "\n",
        "# Convert to integer\n",
        "int_value = int(user_input)\n",
        "print(\"As integer:\", int_value)\n",
        "\n",
        "# Convert to float\n",
        "float_value = float(user_input)\n",
        "print(\"As float:\", float_value)\n",
        "\n",
        "# Convert to boolean\n",
        "bool_value = bool(user_input)\n",
        "print(\"As boolean:\", bool_value)\n",
        "\n",
        "\n"
      ],
      "metadata": {
        "colab": {
          "base_uri": "https://localhost:8080/"
        },
        "id": "1S-BmqQrBB5p",
        "outputId": "caf0c020-9044-4df1-f40c-31abde7b12cf"
      },
      "execution_count": 9,
      "outputs": [
        {
          "output_type": "stream",
          "name": "stdout",
          "text": [
            "Enter a value: 5\n",
            "As integer: 5\n",
            "As float: 5.0\n",
            "As boolean: True\n"
          ]
        }
      ]
    },
    {
      "cell_type": "code",
      "source": [
        "\"\"\"Write code to demonstrate type casting with list elements.\"\"\"\n",
        "# A list of strings like numbers\n",
        "string_list = [\"1\", \"2\", \"3\", \"4\"]\n",
        "\n",
        "# Convert (cast) each string to an integer\n",
        "int_list = [int(item) for item in string_list]\n",
        "\n",
        "# Convert integers to floats\n",
        "float_list = [float(item) for item in int_list]\n",
        "\n",
        "# Convert numbers to strings again\n",
        "str_list = [str(item) for item in float_list]\n",
        "\n",
        "# Print results\n",
        "print(\"Original list (strings):\", string_list)\n",
        "print(\"After casting to integers:\", int_list)\n",
        "print(\"After casting to floats:\", float_list)\n",
        "print(\"After casting back to strings:\", str_list)\n"
      ],
      "metadata": {
        "colab": {
          "base_uri": "https://localhost:8080/"
        },
        "id": "KhJNthcySgfp",
        "outputId": "38ca593b-cbcf-4932-b939-f92fdc8591d1"
      },
      "execution_count": 10,
      "outputs": [
        {
          "output_type": "stream",
          "name": "stdout",
          "text": [
            "Original list (strings): ['1', '2', '3', '4']\n",
            "After casting to integers: [1, 2, 3, 4]\n",
            "After casting to floats: [1.0, 2.0, 3.0, 4.0]\n",
            "After casting back to strings: ['1.0', '2.0', '3.0', '4.0']\n"
          ]
        }
      ]
    },
    {
      "cell_type": "code",
      "source": [
        "\"\"\"Write a program that checks if a number is positive, negative, or zero.\"\"\"\n",
        "# Get input from the user\n",
        "num = float(input(\"Enter a number: \"))\n",
        "\n",
        "# Check and print result\n",
        "if num > 0:\n",
        "    print(\"The number is positive.\")\n",
        "elif num < 0:\n",
        "    print(\"The number is negative.\")\n",
        "else:\n",
        "    print(\"The number is zero.\")\n",
        "\n"
      ],
      "metadata": {
        "colab": {
          "base_uri": "https://localhost:8080/"
        },
        "id": "dkzhAIuYSyZI",
        "outputId": "2c3679f2-da0e-41fa-c66a-c812ad11fad0"
      },
      "execution_count": 12,
      "outputs": [
        {
          "output_type": "stream",
          "name": "stdout",
          "text": [
            "Enter a number: -6\n",
            "The number is negative.\n"
          ]
        }
      ]
    },
    {
      "cell_type": "code",
      "source": [
        "\"\"\"Write a for loop to print numbers from 1 to 10.\"\"\"\n",
        "for i in range(1, 11):\n",
        "    print(i)\n"
      ],
      "metadata": {
        "colab": {
          "base_uri": "https://localhost:8080/"
        },
        "id": "BHOCeEicTHpX",
        "outputId": "3cfb8723-4cbc-4e9a-f79b-9c21d419d70c"
      },
      "execution_count": 13,
      "outputs": [
        {
          "output_type": "stream",
          "name": "stdout",
          "text": [
            "1\n",
            "2\n",
            "3\n",
            "4\n",
            "5\n",
            "6\n",
            "7\n",
            "8\n",
            "9\n",
            "10\n"
          ]
        }
      ]
    },
    {
      "cell_type": "code",
      "source": [
        "\"\"\"Write a Python program to find the sum of all even numbers between 1 and 50.\"\"\"\n",
        "# Initialize sum\n",
        "even_sum = 0\n",
        "\n",
        "# Loop through numbers from 1 to 50\n",
        "for i in range(1, 51):\n",
        "    if i % 2 == 0:\n",
        "        even_sum += i\n",
        "\n",
        "# Print the result\n",
        "print(\"Sum of even numbers from 1 to 50 is:\", even_sum)\n"
      ],
      "metadata": {
        "colab": {
          "base_uri": "https://localhost:8080/"
        },
        "id": "Ya7pkiS7TNID",
        "outputId": "ce4fa852-7fc0-48b7-986c-4342f8a8fc6c"
      },
      "execution_count": 14,
      "outputs": [
        {
          "output_type": "stream",
          "name": "stdout",
          "text": [
            "Sum of even numbers from 1 to 50 is: 650\n"
          ]
        }
      ]
    },
    {
      "cell_type": "code",
      "source": [
        "\"\"\"Write a program to reverse a string using a while loop.\"\"\"\n",
        "# Get input from user\n",
        "text = input(\"Enter a string: \")\n",
        "\n",
        "# Initialize variables\n",
        "reversed_text = \"\"\n",
        "index = len(text) - 1\n",
        "\n",
        "# Loop to reverse the string\n",
        "while index >= 0:\n",
        "    reversed_text += text[index]\n",
        "    index -= 1\n",
        "\n",
        "# Print the reversed string\n",
        "print(\"Reversed string:\", reversed_text)\n"
      ],
      "metadata": {
        "colab": {
          "base_uri": "https://localhost:8080/"
        },
        "id": "LTeGlVvETfc6",
        "outputId": "9aa16758-e557-4777-9831-7c06528544d7"
      },
      "execution_count": 15,
      "outputs": [
        {
          "output_type": "stream",
          "name": "stdout",
          "text": [
            "Enter a string: Kirty\n",
            "Reversed string: ytriK\n"
          ]
        }
      ]
    },
    {
      "cell_type": "code",
      "source": [
        "\"\"\"Write a Python program to calculate the factorial of a number provided by the user using a while loop.\"\"\"\n",
        "# Get input from the user\n",
        "num = int(input(\"Enter a number: \"))\n",
        "\n",
        "# Initialize factorial and counter\n",
        "factorial = 1\n",
        "i = 1\n",
        "\n",
        "# Calculate factorial using while loop\n",
        "while i <= num:\n",
        "    factorial *= i\n",
        "    i += 1\n",
        "\n",
        "# Display the result\n",
        "print(\"Factorial of\", num, \"is:\", factorial)\n"
      ],
      "metadata": {
        "colab": {
          "base_uri": "https://localhost:8080/"
        },
        "id": "nYlW_uhfT6A0",
        "outputId": "a991f709-09cc-4b81-e491-c24797bc8552"
      },
      "execution_count": 17,
      "outputs": [
        {
          "output_type": "stream",
          "name": "stdout",
          "text": [
            "Enter a number: 5\n",
            "Factorial of 5 is: 120\n"
          ]
        }
      ]
    },
    {
      "cell_type": "code",
      "source": [],
      "metadata": {
        "id": "PA0nMaxCSVAD"
      },
      "execution_count": null,
      "outputs": []
    }
  ]
}